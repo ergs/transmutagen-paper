{
 "cells": [
  {
   "cell_type": "code",
   "execution_count": 1,
   "metadata": {},
   "outputs": [
    {
     "name": "stderr",
     "output_type": "stream",
     "text": [
      "/home/scopatz/miniconda/lib/python3.6/importlib/_bootstrap.py:219: QAWarning: pyne.data is not yet QA compliant.\n",
      "  return f(*args, **kwds)\n",
      "/home/scopatz/miniconda/lib/python3.6/importlib/_bootstrap.py:219: QAWarning: pyne.material is not yet QA compliant.\n",
      "  return f(*args, **kwds)\n"
     ]
    }
   ],
   "source": [
    "%matplotlib inline\n",
    "import pyne\n",
    "from decay_compare import *\n",
    "from pyne import data\n",
    "from pyne import rxname\n",
    "import tables as tb"
   ]
  },
  {
   "cell_type": "code",
   "execution_count": 2,
   "metadata": {
    "scrolled": true
   },
   "outputs": [
    {
     "name": "stdout",
     "output_type": "stream",
     "text": [
      "Running nuc Lu153\n",
      "Running nuc Tm149\n",
      "CPU times: user 584 ms, sys: 4 ms, total: 588 ms\n",
      "Wall time: 587 ms\n"
     ]
    }
   ],
   "source": [
    "%%time\n",
    "nucs = cram.NUCS\n",
    "n = 22\n",
    "nucs = cram.NUCS[100*n:100*(n+1)]\n",
    "#nucs = cram.NUCS[:100*(n+1)]\n",
    "nucs = ['Lu153', 'Tm149']\n",
    "batemans, crammeds, diagexps = run_nuclides(nucs=nucs, verbose=True)"
   ]
  },
  {
   "cell_type": "code",
   "execution_count": 3,
   "metadata": {},
   "outputs": [],
   "source": [
    "NNUCS = len(crammeds)"
   ]
  },
  {
   "cell_type": "code",
   "execution_count": 4,
   "metadata": {},
   "outputs": [],
   "source": [
    "b = np.zeros((NTIMES, NNUCS), dtype=float)\n",
    "c = np.zeros((NTIMES, NNUCS), dtype=float)\n",
    "d = np.zeros((NTIMES, NNUCS), dtype=float)\n",
    "for n, nuc in enumerate(nucs):\n",
    "    b[:, n] = batemans[nuc][nuc]\n",
    "    c[:, n] = crammeds[nuc][nuc]\n",
    "    d[:, n] = diagexps[nuc][nuc]"
   ]
  },
  {
   "cell_type": "code",
   "execution_count": 5,
   "metadata": {},
   "outputs": [],
   "source": [
    "diagdiff = np.abs(d - c)\n",
    "mu_diagdiff = diagdiff.mean(axis=1)\n",
    "sigma_diagdiff = diagdiff.std(axis=1)"
   ]
  },
  {
   "cell_type": "code",
   "execution_count": 6,
   "metadata": {},
   "outputs": [
    {
     "data": {
      "text/plain": [
       "array([  0.000000000000000000e+00,   5.421010862427522170e-20,\n",
       "         3.231174267785264355e-27,   4.930380657631323784e-32,\n",
       "         1.743152798421049495e-32,   4.930380657631323784e-32,\n",
       "         0.000000000000000000e+00,   0.000000000000000000e+00,\n",
       "         1.232595164407830946e-32,   2.465190328815661892e-32,\n",
       "         2.465190328815661892e-32,   0.000000000000000000e+00,\n",
       "         1.743152798421049495e-32,   0.000000000000000000e+00,\n",
       "         1.743152798421049495e-32,   2.465190328815661892e-32,\n",
       "         1.743152798421049495e-32,   0.000000000000000000e+00,\n",
       "         0.000000000000000000e+00,   0.000000000000000000e+00,\n",
       "         3.897808152438454715e-32,   2.465190328815661892e-32,\n",
       "         2.465190328815661892e-32,   1.743152798421049495e-32,\n",
       "         1.743152798421049495e-32,   2.465190328815661892e-32,\n",
       "         0.000000000000000000e+00,   1.743152798421049495e-32])"
      ]
     },
     "execution_count": 6,
     "metadata": {},
     "output_type": "execute_result"
    }
   ],
   "source": [
    "sigma_diagdiff"
   ]
  },
  {
   "cell_type": "markdown",
   "metadata": {},
   "source": [
    "# Difference plot for all nuclides\n",
    "\n",
    "The red line is the mean difference with $1\\sigma$ error bars"
   ]
  },
  {
   "cell_type": "code",
   "execution_count": 7,
   "metadata": {},
   "outputs": [
    {
     "data": {
      "text/plain": [
       "<matplotlib.legend.Legend at 0x7fb19aaa5438>"
      ]
     },
     "execution_count": 7,
     "metadata": {},
     "output_type": "execute_result"
    },
    {
     "data": {
      "image/png": "[encoded data removed]",
      "text/plain": [
       "<matplotlib.figure.Figure at 0x7fb19aabfcc0>"
      ]
     },
     "metadata": {},
     "output_type": "display_data"
    }
   ],
   "source": [
    "plt.plot(TIMES[1:], diagdiff[1:, :], color='gray', alpha=0.01)\n",
    "plt.errorbar(TIMES[1:], mu_diagdiff[1:], yerr=sigma_diagdiff[1:], color='red', capsize=5, label='mean')\n",
    "plt.axis([TIMES[1]*0.75, TIMES[-1]*1.25, 0.0, 1e-14])\n",
    "plt.xscale('log')\n",
    "#plt.yscale('log')\n",
    "plt.xlabel('time [s]')\n",
    "plt.ylabel('Difference, $\\\\left|e^{-\\\\lambda t} - r_{k,k}\\\\right|$')\n",
    "plt.legend(loc=0)"
   ]
  },
  {
   "cell_type": "markdown",
   "metadata": {},
   "source": [
    "# Bateman Comparison"
   ]
  },
  {
   "cell_type": "code",
   "execution_count": 8,
   "metadata": {},
   "outputs": [],
   "source": [
    "def bateman_diff_plot(nuc, batemans, crammeds):\n",
    "    try:\n",
    "        bateman = batemans[nuc]\n",
    "        crammed = crammeds[nuc]\n",
    "    except KeyError:\n",
    "        print('Nuclide not in data!')\n",
    "        return\n",
    "    diff = diff_nuclide(bateman, crammed, abs=True)\n",
    "    d = np.zeros((NTIMES, len(diff)), dtype=float)\n",
    "    for i, (n, arr) in enumerate(diff.items()):\n",
    "        if data.fpyield(nuc, n) > 0:\n",
    "            print('skipping', n)\n",
    "            continue\n",
    "        plt.plot(TIMES, arr, label=n)\n",
    "        d[:,i] = arr\n",
    "    mu = d.mean(axis=1)\n",
    "    sigma = d.std(axis=1)\n",
    "    #plt.errorbar(TIMES, mu, yerr=sigma, capsize=5, color='black', label='mean')\n",
    "    plt.xscale('log')\n",
    "    #plt.yscale('log')\n",
    "    #plt.axis([TIMES[1]*0.75, TIMES[-1]*1.25, 1e-18, 1e-6])\n",
    "    plt.xlabel('time [s]')\n",
    "    plt.ylabel('Difference, $\\\\left|e^{-\\\\lambda t} - r_{k,k}\\\\right|$')\n",
    "    plt.legend(loc=0)"
   ]
  },
  {
   "cell_type": "code",
   "execution_count": 9,
   "metadata": {},
   "outputs": [],
   "source": [
    "#bateman_diff_plot('I131', batemans=batemans, crammeds=crammeds)\n",
    "\n",
    "#bateman_diff_plot('Sr90', batemans=batemans, crammeds=crammeds)\n",
    "\n",
    "#bateman_diff_plot('H3', batemans=batemans, crammeds=crammeds)\n",
    "\n",
    "#bateman_diff_plot('U235', batemans=batemans, crammeds=crammeds)\n",
    "\n",
    "#bateman_diff_plot('Se86', batemans=batemans, crammeds=crammeds)"
   ]
  },
  {
   "cell_type": "markdown",
   "metadata": {},
   "source": [
    "# Histogram of errors"
   ]
  },
  {
   "cell_type": "code",
   "execution_count": 10,
   "metadata": {},
   "outputs": [
    {
     "name": "stdout",
     "output_type": "stream",
     "text": [
      "Lu153 -> Eu145\n",
      "Lu153 -> Gd148\n",
      "Lu153 -> Gd149\n",
      "Lu153 -> Tb148\n",
      "Lu153 -> Tb149\n",
      "Lu153 -> Dy148\n",
      "Lu153 -> Dy149\n",
      "Lu153 -> Ho148\n",
      "Lu153 -> Ho149\n",
      "Lu153 -> Er149\n",
      "Lu153 -> Tm149\n"
     ]
    },
    {
     "data": {
      "text/plain": [
       "(28, 45)"
      ]
     },
     "execution_count": 10,
     "metadata": {},
     "output_type": "execute_result"
    }
   ],
   "source": [
    "diff_arrs = []\n",
    "for nuc in nucs:\n",
    "    diff = diff_nuclide(batemans[nuc], crammeds[nuc], abs=True, include_missing=False)\n",
    "    diff_arr = np.empty((NTIMES, len(diff)), dtype=float)\n",
    "    for i, (n, d) in enumerate(diff.items()):\n",
    "        diff_arr[:,i] = d\n",
    "        if np.abs(d).max() >= 1e-13:\n",
    "            print(nuc, '->', n)\n",
    "    diff_arrs.append(diff_arr)\n",
    "diff_arrs = np.concatenate(diff_arrs, axis=1)\n",
    "diff_arrs.shape"
   ]
  },
  {
   "cell_type": "code",
   "execution_count": 11,
   "metadata": {},
   "outputs": [
    {
     "data": {
      "text/plain": [
       "Text(0,0.5,'Count')"
      ]
     },
     "execution_count": 11,
     "metadata": {},
     "output_type": "execute_result"
    },
    {
     "data": {
      "image/png": "[encoded data removed]",
      "text/plain": [
       "<matplotlib.figure.Figure at 0x7fb197166390>"
      ]
     },
     "metadata": {},
     "output_type": "display_data"
    }
   ],
   "source": [
    "plt.hist(diff_arrs.flat, bins=np.logspace(-32, 0, 33), log=True)\n",
    "plt.xscale('log')\n",
    "plt.axis([1e-32, 1, 1e0, 1e5])\n",
    "plt.xlabel('Difference, $\\\\left|b - r_{k,k}\\\\right|$')\n",
    "plt.ylabel('Count')"
   ]
  },
  {
   "cell_type": "code",
   "execution_count": 12,
   "metadata": {
    "scrolled": false
   },
   "outputs": [
    {
     "name": "stdout",
     "output_type": "stream",
     "text": [
      "Lu153 -> Tm149\n",
      "\n",
      "CRAM\n",
      " [  0.000000000000000000e+00   2.437267862746852597e-03\n",
      "   4.514043452713203922e-10   0.000000000000000000e+00\n",
      "   1.080693623051634410e-15   1.321629391213861495e-16\n",
      "   1.835546514927909888e-17   0.000000000000000000e+00\n",
      "   0.000000000000000000e+00   0.000000000000000000e+00\n",
      "   0.000000000000000000e+00   0.000000000000000000e+00\n",
      "   0.000000000000000000e+00   0.000000000000000000e+00\n",
      "   0.000000000000000000e+00   0.000000000000000000e+00\n",
      "   0.000000000000000000e+00   0.000000000000000000e+00\n",
      "   0.000000000000000000e+00   0.000000000000000000e+00\n",
      "   0.000000000000000000e+00   0.000000000000000000e+00\n",
      "   0.000000000000000000e+00   0.000000000000000000e+00\n",
      "   0.000000000000000000e+00   0.000000000000000000e+00\n",
      "   0.000000000000000000e+00   0.000000000000000000e+00]\n",
      "Bateman\n",
      " [  0.000000000000000000e+000   6.329221666026402758e-004\n",
      "   3.706910863844154215e-011   4.992875532806016567e-034\n",
      "   2.371205044712402408e-106   0.000000000000000000e+000\n",
      "   0.000000000000000000e+000   0.000000000000000000e+000\n",
      "   0.000000000000000000e+000   0.000000000000000000e+000\n",
      "   0.000000000000000000e+000   0.000000000000000000e+000\n",
      "   0.000000000000000000e+000   0.000000000000000000e+000\n",
      "   0.000000000000000000e+000   0.000000000000000000e+000\n",
      "   0.000000000000000000e+000   0.000000000000000000e+000\n",
      "   0.000000000000000000e+000   0.000000000000000000e+000\n",
      "   0.000000000000000000e+000   0.000000000000000000e+000\n",
      "   0.000000000000000000e+000   0.000000000000000000e+000\n",
      "   0.000000000000000000e+000   0.000000000000000000e+000\n",
      "   0.000000000000000000e+000   0.000000000000000000e+000]\n",
      "Diff\n",
      " [  0.000000000000000000e+00  -1.804345696144212322e-03\n",
      "  -4.143352366328788371e-10   4.992875532806016567e-34\n",
      "  -1.080693623051634410e-15  -1.321629391213861495e-16\n",
      "  -1.835546514927909888e-17   0.000000000000000000e+00\n",
      "   0.000000000000000000e+00   0.000000000000000000e+00\n",
      "   0.000000000000000000e+00   0.000000000000000000e+00\n",
      "   0.000000000000000000e+00   0.000000000000000000e+00\n",
      "   0.000000000000000000e+00   0.000000000000000000e+00\n",
      "   0.000000000000000000e+00   0.000000000000000000e+00\n",
      "   0.000000000000000000e+00   0.000000000000000000e+00\n",
      "   0.000000000000000000e+00   0.000000000000000000e+00\n",
      "   0.000000000000000000e+00   0.000000000000000000e+00\n",
      "   0.000000000000000000e+00   0.000000000000000000e+00\n",
      "   0.000000000000000000e+00   0.000000000000000000e+00]\n"
     ]
    },
    {
     "data": {
      "image/png": "[encoded data removed]",
      "text/plain": [
       "<matplotlib.figure.Figure at 0x7fb196f39cf8>"
      ]
     },
     "metadata": {},
     "output_type": "display_data"
    }
   ],
   "source": [
    "nuc = 'Lu153'\n",
    "ouc = 'Tm149'\n",
    "print(nuc + ' -> ' + ouc + '\\n')\n",
    "print('CRAM\\n', crammeds[nuc][ouc])\n",
    "print('Bateman\\n', batemans[nuc][ouc])\n",
    "print('Diff\\n', batemans[nuc][ouc] - crammeds[nuc][ouc])\n",
    "bateman_diff_plot(nuc, batemans=batemans, crammeds=crammeds)"
   ]
  },
  {
   "cell_type": "code",
   "execution_count": 13,
   "metadata": {},
   "outputs": [
    {
     "data": {
      "text/plain": [
       "set([671480000, 681490000])"
      ]
     },
     "execution_count": 13,
     "metadata": {},
     "output_type": "execute_result"
    }
   ],
   "source": [
    "data.decay_children('Tm149')"
   ]
  },
  {
   "cell_type": "code",
   "execution_count": 14,
   "metadata": {},
   "outputs": [
    {
     "data": {
      "text/plain": [
       "0.998"
      ]
     },
     "execution_count": 14,
     "metadata": {},
     "output_type": "execute_result"
    }
   ],
   "source": [
    "data.branch_ratio('Tm149', 'Er149')"
   ]
  },
  {
   "cell_type": "code",
   "execution_count": null,
   "metadata": {},
   "outputs": [],
   "source": []
  }
 ],
 "metadata": {
  "kernelspec": {
   "display_name": "Python 3",
   "language": "python",
   "name": "python3"
  },
  "language_info": {
   "codemirror_mode": {
    "name": "ipython",
    "version": 3
   },
   "file_extension": ".py",
   "mimetype": "text/x-python",
   "name": "python",
   "nbconvert_exporter": "python",
   "pygments_lexer": "ipython3",
   "version": "3.6.3"
  }
 },
 "nbformat": 4,
 "nbformat_minor": 2
}
