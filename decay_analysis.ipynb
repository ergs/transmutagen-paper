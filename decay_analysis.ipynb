{
 "cells": [
  {
   "cell_type": "code",
   "execution_count": 1,
   "metadata": {},
   "outputs": [
    {
     "name": "stderr",
     "output_type": "stream",
     "text": [
      "/home/scopatz/miniconda/lib/python3.6/importlib/_bootstrap.py:205: QAWarning: pyne.data is not yet QA compliant.\n",
      "  return f(*args, **kwds)\n",
      "/home/scopatz/miniconda/lib/python3.6/importlib/_bootstrap.py:205: QAWarning: pyne.material is not yet QA compliant.\n",
      "  return f(*args, **kwds)\n"
     ]
    }
   ],
   "source": [
    "%matplotlib inline\n",
    "import pyne\n",
    "from decay_compare import *\n",
    "from pyne import data\n",
    "from pyne import rxname\n",
    "import tables as tb"
   ]
  },
  {
   "cell_type": "code",
   "execution_count": 26,
   "metadata": {},
   "outputs": [
    {
     "name": "stdout",
     "output_type": "stream",
     "text": [
      "Running nuc Co59M\n",
      "Running nuc Np240M\n",
      "Running nuc Np240\n",
      "Running nuc U236\n",
      "CPU times: user 636 ms, sys: 4 ms, total: 640 ms\n",
      "Wall time: 639 ms\n"
     ]
    }
   ],
   "source": [
    "%%time\n",
    "nucs = cram.NUCS\n",
    "nucs = ['Co59M', 'Np240M', 'Np240', 'U236']\n",
    "batemans, crammeds, diagexps = run_nuclides(nucs=nucs, verbose=True)"
   ]
  },
  {
   "cell_type": "code",
   "execution_count": 27,
   "metadata": {},
   "outputs": [],
   "source": [
    "NNUCS = len(crammeds)"
   ]
  },
  {
   "cell_type": "code",
   "execution_count": 28,
   "metadata": {},
   "outputs": [],
   "source": [
    "b = np.zeros((NTIMES, NNUCS), dtype=float)\n",
    "c = np.zeros((NTIMES, NNUCS), dtype=float)\n",
    "d = np.zeros((NTIMES, NNUCS), dtype=float)\n",
    "for n, nuc in enumerate(nucs):\n",
    "    b[:, n] = batemans[nuc][nuc]\n",
    "    c[:, n] = crammeds[nuc][nuc]\n",
    "    d[:, n] = diagexps[nuc][nuc]"
   ]
  },
  {
   "cell_type": "code",
   "execution_count": 29,
   "metadata": {},
   "outputs": [],
   "source": [
    "diagdiff = np.abs(d - c)\n",
    "mu_diagdiff = diagdiff.mean(axis=1)\n",
    "sigma_diagdiff = diagdiff.std(axis=1)"
   ]
  },
  {
   "cell_type": "code",
   "execution_count": 30,
   "metadata": {},
   "outputs": [
    {
     "data": {
      "text/plain": [
       "array([  0.000000000000000000e+00,   2.491671681567757128e-15,\n",
       "         4.123081181970257143e-15,   3.786576719145419772e-15,\n",
       "         4.056114391500013048e-15,   1.820729267361059151e-15,\n",
       "         6.809947983623497790e-16,   2.857547999255292058e-15,\n",
       "         2.492439904710977483e-15,   1.399184369998993207e-15,\n",
       "         5.447939630242687535e-15,   1.660622319169067101e-15,\n",
       "         1.665596572540080951e-15,   3.582488064476375346e-15,\n",
       "         3.870297002690069670e-15,   1.506630285802571640e-15,\n",
       "         2.019698787232584716e-15,   3.375657157113223697e-15,\n",
       "         2.297830874370606881e-15,   1.410634917469007933e-15,\n",
       "         4.446500722209033626e-15,   4.720891147561925848e-15,\n",
       "         1.622232595432966368e-15,   3.155175510000462810e-15,\n",
       "         1.753821534445852517e-15,   4.720857793047886737e-15,\n",
       "         1.939476222516839421e-15,   1.451735906669038718e-15])"
      ]
     },
     "execution_count": 30,
     "metadata": {},
     "output_type": "execute_result"
    }
   ],
   "source": [
    "sigma_diagdiff"
   ]
  },
  {
   "cell_type": "markdown",
   "metadata": {},
   "source": [
    "# Difference plot for all nuclides\n",
    "\n",
    "The red line is the mean difference with $1\\sigma$ error bars"
   ]
  },
  {
   "cell_type": "code",
   "execution_count": 31,
   "metadata": {},
   "outputs": [
    {
     "data": {
      "text/plain": [
       "<matplotlib.legend.Legend at 0x7f858dbe6160>"
      ]
     },
     "execution_count": 31,
     "metadata": {},
     "output_type": "execute_result"
    },
    {
     "data": {
      "image/png": "[encoded data removed]",
      "text/plain": [
       "<matplotlib.figure.Figure at 0x7f858da0cda0>"
      ]
     },
     "metadata": {},
     "output_type": "display_data"
    }
   ],
   "source": [
    "plt.plot(TIMES[1:], diagdiff[1:, :], color='gray', alpha=0.01)\n",
    "plt.errorbar(TIMES[1:], mu_diagdiff[1:], yerr=sigma_diagdiff[1:], color='red', capsize=5, label='mean')\n",
    "plt.axis([TIMES[1]*0.75, TIMES[-1]*1.25, 0.0, 1e-14])\n",
    "plt.xscale('log')\n",
    "#plt.yscale('log')\n",
    "plt.xlabel('time [s]')\n",
    "plt.ylabel('Difference, $\\\\left|e^{-\\\\lambda t} - r_{k,k}\\\\right|$')\n",
    "plt.legend(loc=0)"
   ]
  },
  {
   "cell_type": "markdown",
   "metadata": {},
   "source": [
    "# Bateman Comparison"
   ]
  },
  {
   "cell_type": "code",
   "execution_count": 32,
   "metadata": {},
   "outputs": [],
   "source": [
    "def bateman_diff_plot(nuc, batemans, crammeds):\n",
    "    try:\n",
    "        bateman = batemans[nuc]\n",
    "        crammed = crammeds[nuc]\n",
    "    except KeyError:\n",
    "        print('Nuclide not in data!')\n",
    "        return\n",
    "    diff = diff_nuclide(bateman, crammed, abs=True)\n",
    "    d = np.zeros((NTIMES, len(diff)), dtype=float)\n",
    "    for i, (n, arr) in enumerate(diff.items()):\n",
    "        if data.fpyield(nuc, n) > 0:\n",
    "            print('skipping', n)\n",
    "            continue\n",
    "        plt.plot(TIMES, arr, label=n)\n",
    "        d[:,i] = arr\n",
    "    mu = d.mean(axis=1)\n",
    "    sigma = d.std(axis=1)\n",
    "    #plt.errorbar(TIMES, mu, yerr=sigma, capsize=5, color='black', label='mean')\n",
    "    plt.xscale('log')\n",
    "    #plt.yscale('log')\n",
    "    #plt.axis([TIMES[1]*0.75, TIMES[-1]*1.25, 1e-18, 1e-6])\n",
    "    plt.xlabel('time [s]')\n",
    "    plt.ylabel('Difference, $\\\\left|e^{-\\\\lambda t} - r_{k,k}\\\\right|$')\n",
    "    plt.legend(loc=0)"
   ]
  },
  {
   "cell_type": "code",
   "execution_count": 33,
   "metadata": {},
   "outputs": [
    {
     "name": "stdout",
     "output_type": "stream",
     "text": [
      "Nuclide not in data!\n"
     ]
    }
   ],
   "source": [
    "bateman_diff_plot('I131', batemans=batemans, crammeds=crammeds)"
   ]
  },
  {
   "cell_type": "code",
   "execution_count": 34,
   "metadata": {},
   "outputs": [
    {
     "name": "stdout",
     "output_type": "stream",
     "text": [
      "Nuclide not in data!\n"
     ]
    }
   ],
   "source": [
    "bateman_diff_plot('Sr90', batemans=batemans, crammeds=crammeds)"
   ]
  },
  {
   "cell_type": "code",
   "execution_count": 35,
   "metadata": {},
   "outputs": [
    {
     "name": "stdout",
     "output_type": "stream",
     "text": [
      "Nuclide not in data!\n"
     ]
    }
   ],
   "source": [
    "bateman_diff_plot('H3', batemans=batemans, crammeds=crammeds)"
   ]
  },
  {
   "cell_type": "code",
   "execution_count": 36,
   "metadata": {},
   "outputs": [],
   "source": [
    "#bateman_diff_plot('U235', batemans=batemans, crammeds=crammeds)"
   ]
  },
  {
   "cell_type": "code",
   "execution_count": 37,
   "metadata": {},
   "outputs": [
    {
     "name": "stdout",
     "output_type": "stream",
     "text": [
      "Nuclide not in data!\n"
     ]
    }
   ],
   "source": [
    "bateman_diff_plot('Se86', batemans=batemans, crammeds=crammeds)"
   ]
  },
  {
   "cell_type": "markdown",
   "metadata": {},
   "source": [
    "# Histogram of errors"
   ]
  },
  {
   "cell_type": "code",
   "execution_count": 38,
   "metadata": {},
   "outputs": [
    {
     "name": "stdout",
     "output_type": "stream",
     "text": [
      "Np240M -> Pu240\n",
      "Np240M -> Th232\n",
      "Np240 -> Th232\n",
      "U236 -> Th232\n"
     ]
    },
    {
     "data": {
      "text/plain": [
       "(28, 165)"
      ]
     },
     "execution_count": 38,
     "metadata": {},
     "output_type": "execute_result"
    }
   ],
   "source": [
    "diff_arrs = []\n",
    "for nuc in nucs:\n",
    "    diff = diff_nuclide(batemans[nuc], crammeds[nuc], abs=True, include_missing=False)\n",
    "    diff_arr = np.empty((NTIMES, len(diff)), dtype=float)\n",
    "    for i, (n, d) in enumerate(diff.items()):\n",
    "        diff_arr[:,i] = d\n",
    "        if d.max() >= 0.0001:\n",
    "            print(nuc, '->', n)\n",
    "    diff_arrs.append(diff_arr)\n",
    "diff_arrs = np.concatenate(diff_arrs, axis=1)\n",
    "diff_arrs.shape"
   ]
  },
  {
   "cell_type": "code",
   "execution_count": 39,
   "metadata": {},
   "outputs": [
    {
     "data": {
      "text/plain": [
       "<matplotlib.text.Text at 0x7f858d9b9278>"
      ]
     },
     "execution_count": 39,
     "metadata": {},
     "output_type": "execute_result"
    },
    {
     "data": {
      "image/png": "[encoded data removed]",
      "text/plain": [
       "<matplotlib.figure.Figure at 0x7f8591a48da0>"
      ]
     },
     "metadata": {},
     "output_type": "display_data"
    }
   ],
   "source": [
    "plt.hist(diff_arrs.flat, bins=np.logspace(-32, 0, 33), log=True)\n",
    "plt.xscale('log')\n",
    "plt.axis([1e-32, 1, 1e0, 1e5])\n",
    "plt.xlabel('Difference, $\\\\left|b - r_{k,k}\\\\right|$')\n",
    "plt.ylabel('Count')"
   ]
  },
  {
   "cell_type": "code",
   "execution_count": 40,
   "metadata": {},
   "outputs": [
    {
     "data": {
      "text/plain": [
       "0"
      ]
     },
     "execution_count": 40,
     "metadata": {},
     "output_type": "execute_result"
    }
   ],
   "source": [
    "(diff_arrs >= 0.999).sum()"
   ]
  },
  {
   "cell_type": "code",
   "execution_count": 42,
   "metadata": {
    "scrolled": false
   },
   "outputs": [
    {
     "name": "stdout",
     "output_type": "stream",
     "text": [
      "U236\n",
      "\n",
      "CRAM\n",
      " [  0.000000000000000000e+00   9.378526355947623535e-15\n",
      "   2.965750438071329554e-14   9.378526355947249615e-14\n",
      "   2.965750438070932347e-13   9.378526355943285368e-13\n",
      "   2.965750438066968706e-12   9.378526355903628359e-12\n",
      "   2.965750438027326560e-11   9.378526355507178786e-11\n",
      "   2.965750437630847519e-10   9.378526351542504436e-10\n",
      "   2.965750433666175392e-09   9.378526311895732713e-09\n",
      "   2.965750394019424349e-08   9.378525915428214340e-08\n",
      "   2.965749997551937607e-07   9.378521950754268731e-07\n",
      "   2.965746032880939196e-06   9.378482304137546551e-06\n",
      "   2.965706386559014467e-05   9.378085850240314603e-05\n",
      "   2.965309962138799253e-04   9.374122537985005426e-04\n",
      "   2.961349594974463199e-03   9.334611800316486296e-03\n",
      "   2.922130771878156744e-02   8.951461401002600016e-02]\n",
      "Bateman\n",
      " [  0.000000000000000000e+00   9.325873406851314940e-15\n",
      "   2.964295475749168594e-14   9.370282327836324988e-14\n",
      "   2.960964806675292998e-13   9.362510766663947125e-13\n",
      "   2.960742762070368270e-12   9.362843833571334268e-12\n",
      "   2.960787170991352468e-11   9.362843833571332652e-11\n",
      "   2.960789391437402236e-10   9.362838282456209527e-10\n",
      "   2.960789169392798034e-09   9.362837394277791481e-09\n",
      "   2.960789113881646224e-08   9.362836972393043116e-08\n",
      "   2.960788720862696433e-07   9.362833023329743995e-07\n",
      "   2.960784763361702537e-06   9.362793442990735571e-06\n",
      "   2.960745183444580387e-05   9.362397652334931953e-05\n",
      "   2.960349422187480970e-04   9.358440970139717463e-04\n",
      "   2.956395680152158235e-03   9.318996328290807263e-03\n",
      "   2.917242464544101549e-02   8.936486884858953206e-02]\n",
      "Diff\n",
      " [  0.000000000000000000e+00  -5.265294909630859556e-17\n",
      "  -1.454962322160960457e-17  -8.244028110924627337e-17\n",
      "  -4.785631395639349053e-16  -1.601558927933824324e-15\n",
      "  -5.007675996600436354e-15  -1.568252233229409059e-14\n",
      "  -4.963267035974091705e-14  -1.568252193584613316e-13\n",
      "  -4.961046193445283074e-13  -1.568806908629490942e-12\n",
      "  -4.961264273377357849e-12  -1.568891761794123243e-11\n",
      "  -4.961280137778124899e-11  -1.568894303517122409e-10\n",
      "  -4.961276689241173865e-10  -1.568892742452473627e-09\n",
      "  -4.961269519236659640e-09  -1.568886114681098082e-08\n",
      "  -4.961203114434080776e-08  -1.568819790538265001e-07\n",
      "  -4.960539951318282750e-07  -1.568156784528796331e-06\n",
      "  -4.953914822304963939e-06  -1.561547202567903359e-05\n",
      "  -4.888307334055194686e-05  -1.497451614364680994e-04]\n",
      "skipping Tc99\n",
      "skipping Ru103\n",
      "skipping Ru106\n",
      "skipping Rh105\n",
      "skipping Pd107\n",
      "skipping Cd113\n",
      "skipping In115\n",
      "skipping Sb125\n",
      "skipping Te127\n",
      "skipping I135\n",
      "skipping Xe134\n",
      "skipping Xe135\n",
      "skipping Xe136\n",
      "skipping Cs134\n",
      "skipping Cs137\n",
      "skipping Pm147\n",
      "skipping Pm148\n",
      "skipping Pm149\n",
      "skipping Sm151\n",
      "skipping Sm152\n",
      "skipping Eu152\n",
      "skipping Eu154\n",
      "skipping Eu155\n",
      "skipping Dy160\n",
      "skipping Cs135\n",
      "skipping Kr83\n",
      "skipping Mo95\n",
      "skipping Ru101\n",
      "skipping Pd108\n",
      "skipping Ag109\n",
      "skipping I127\n",
      "skipping Xe131\n",
      "skipping Cs133\n",
      "skipping Nd143\n",
      "skipping Nd145\n",
      "skipping Sm150\n",
      "skipping Eu153\n",
      "skipping Gd154\n",
      "skipping Gd156\n",
      "skipping Gd157\n",
      "skipping Gd158\n",
      "skipping Dy161\n",
      "skipping Dy162\n",
      "skipping Dy163\n",
      "skipping Dy164\n",
      "skipping Ho165\n",
      "skipping Er166\n"
     ]
    },
    {
     "data": {
      "image/png": "[encoded data removed]",
      "text/plain": [
       "<matplotlib.figure.Figure at 0x7f858c6a8ba8>"
      ]
     },
     "metadata": {},
     "output_type": "display_data"
    }
   ],
   "source": [
    "nuc = 'U236'\n",
    "ouc = 'Th232'\n",
    "print(nuc + '\\n')\n",
    "print('CRAM\\n', crammeds[nuc][ouc])\n",
    "print('Bateman\\n', batemans[nuc][ouc])\n",
    "print('Diff\\n', batemans[nuc][ouc] - crammeds[nuc][ouc])\n",
    "bateman_diff_plot(nuc, batemans=batemans, crammeds=crammeds)"
   ]
  },
  {
   "cell_type": "code",
   "execution_count": 43,
   "metadata": {},
   "outputs": [
    {
     "data": {
      "text/plain": [
       "9.378526355947962e-16"
      ]
     },
     "execution_count": 43,
     "metadata": {},
     "output_type": "execute_result"
    }
   ],
   "source": [
    "data.decay_const('U236')"
   ]
  },
  {
   "cell_type": "code",
   "execution_count": 44,
   "metadata": {},
   "outputs": [
    {
     "data": {
      "text/plain": [
       "{360830000,\n",
       " 420950000,\n",
       " 430990000,\n",
       " 440990000,\n",
       " 441010000,\n",
       " 441030000,\n",
       " 441060000,\n",
       " 451030000,\n",
       " 451050000,\n",
       " 451060000,\n",
       " 461050000,\n",
       " 461060000,\n",
       " 461070000,\n",
       " 461080000,\n",
       " 471070000,\n",
       " 471090000,\n",
       " 481130000,\n",
       " 491150000,\n",
       " 511250000,\n",
       " 521250000,\n",
       " 521270000,\n",
       " 531270000,\n",
       " 531350000,\n",
       " 541310000,\n",
       " 541340000,\n",
       " 541350000,\n",
       " 541360000,\n",
       " 551330000,\n",
       " 551340000,\n",
       " 551350000,\n",
       " 551370000,\n",
       " 561340000,\n",
       " 561350000,\n",
       " 561370000,\n",
       " 601430000,\n",
       " 601450000,\n",
       " 611470000,\n",
       " 611480000,\n",
       " 611480001,\n",
       " 611490000,\n",
       " 621470000,\n",
       " 621480000,\n",
       " 621490000,\n",
       " 621500000,\n",
       " 621510000,\n",
       " 621520000,\n",
       " 621540000,\n",
       " 631510000,\n",
       " 631520000,\n",
       " 631530000,\n",
       " 631540000,\n",
       " 631550000,\n",
       " 641520000,\n",
       " 641540000,\n",
       " 641550000,\n",
       " 641560000,\n",
       " 641570000,\n",
       " 641580000,\n",
       " 661600000,\n",
       " 661610000,\n",
       " 661620000,\n",
       " 661630000,\n",
       " 661640000,\n",
       " 671650000,\n",
       " 681660000,\n",
       " 681670000,\n",
       " 802060000,\n",
       " 812060000,\n",
       " 812080000,\n",
       " 822060000,\n",
       " 822080000,\n",
       " 822100000,\n",
       " 822120000,\n",
       " 832100000,\n",
       " 832120000,\n",
       " 842100000,\n",
       " 842120000,\n",
       " 842160000,\n",
       " 862200000,\n",
       " 882240000,\n",
       " 882280000,\n",
       " 892280000,\n",
       " 902280000,\n",
       " 902320000,\n",
       " 903230000,\n",
       " 922360000}"
      ]
     },
     "execution_count": 44,
     "metadata": {},
     "output_type": "execute_result"
    }
   ],
   "source": [
    "data.all_children(nucname.id('U236'))"
   ]
  },
  {
   "cell_type": "code",
   "execution_count": 46,
   "metadata": {},
   "outputs": [
    {
     "data": {
      "text/plain": [
       "1.0"
      ]
     },
     "execution_count": 46,
     "metadata": {},
     "output_type": "execute_result"
    }
   ],
   "source": [
    "data.branch_ratio(922360000, 902320000)"
   ]
  },
  {
   "cell_type": "code",
   "execution_count": 21,
   "metadata": {},
   "outputs": [],
   "source": [
    "with tb.open_file(pyne.nuc_data) as f:\n",
    "    ll = f.root.decay.level_list[:]"
   ]
  },
  {
   "cell_type": "code",
   "execution_count": 49,
   "metadata": {},
   "outputs": [
    {
     "data": {
      "text/plain": [
       "array([ (922360000,  1089,   7.390789920000000000e+14,  0.,   1.000000000000000000e+02, 0, b' '),\n",
       "       (922360000, 36565,   7.390789920000000000e+14,  0.,   9.399999999999999469e-08, 0, b' '),\n",
       "       (922360000,     0,   7.390789920000000000e+14,  0.,   0.000000000000000000e+00, 0, b' ')],\n",
       "      dtype=[('nuc_id', '<i8'), ('rx_id', '<u4'), ('half_life', '<f8'), ('level', '<f8'), ('branch_ratio', '<f8'), ('metastable', '<i8'), ('special', 'S1')])"
      ]
     },
     "execution_count": 49,
     "metadata": {},
     "output_type": "execute_result"
    }
   ],
   "source": [
    "ll[ll['nuc_id'] == 922360000]"
   ]
  },
  {
   "cell_type": "code",
   "execution_count": 23,
   "metadata": {},
   "outputs": [
    {
     "ename": "AttributeError",
     "evalue": "module 'pyne.rxname' has no attribute 'help'",
     "output_type": "error",
     "traceback": [
      "\u001b[0;31m---------------------------------------------------------------------------\u001b[0m",
      "\u001b[0;31mAttributeError\u001b[0m                            Traceback (most recent call last)",
      "\u001b[0;32m<ipython-input-23-5b5fcf38e364>\u001b[0m in \u001b[0;36m<module>\u001b[0;34m()\u001b[0m\n\u001b[0;32m----> 1\u001b[0;31m \u001b[0mrxname\u001b[0m\u001b[0;34m.\u001b[0m\u001b[0mhelp\u001b[0m\u001b[0;34m(\u001b[0m\u001b[0;36m36125\u001b[0m\u001b[0;34m)\u001b[0m\u001b[0;34m\u001b[0m\u001b[0m\n\u001b[0m",
      "\u001b[0;31mAttributeError\u001b[0m: module 'pyne.rxname' has no attribute 'help'"
     ]
    }
   ],
   "source": []
  },
  {
   "cell_type": "code",
   "execution_count": null,
   "metadata": {},
   "outputs": [],
   "source": [
    "data.branch_ratio('Co58M', 'Co59M')"
   ]
  },
  {
   "cell_type": "code",
   "execution_count": 51,
   "metadata": {},
   "outputs": [
    {
     "data": {
      "text/plain": [
       "1.973169e-09"
      ]
     },
     "execution_count": 51,
     "metadata": {},
     "output_type": "execute_result"
    }
   ],
   "source": [
    "data.branch_ratio('Pu240', 'Xe131')"
   ]
  },
  {
   "cell_type": "code",
   "execution_count": null,
   "metadata": {},
   "outputs": [],
   "source": []
  }
 ],
 "metadata": {
  "kernelspec": {
   "display_name": "Python 3",
   "language": "python",
   "name": "python3"
  },
  "language_info": {
   "codemirror_mode": {
    "name": "ipython",
    "version": 3
   },
   "file_extension": ".py",
   "mimetype": "text/x-python",
   "name": "python",
   "nbconvert_exporter": "python",
   "pygments_lexer": "ipython3",
   "version": "3.6.2"
  }
 },
 "nbformat": 4,
 "nbformat_minor": 2
}
