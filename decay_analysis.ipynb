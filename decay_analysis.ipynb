{
 "cells": [
  {
   "cell_type": "code",
   "execution_count": 1,
   "metadata": {},
   "outputs": [
    {
     "name": "stderr",
     "output_type": "stream",
     "text": [
      "/home/scopatz/miniconda/lib/python3.6/importlib/_bootstrap.py:219: QAWarning: pyne.data is not yet QA compliant.\n",
      "  return f(*args, **kwds)\n",
      "/home/scopatz/miniconda/lib/python3.6/importlib/_bootstrap.py:219: QAWarning: pyne.material is not yet QA compliant.\n",
      "  return f(*args, **kwds)\n"
     ]
    }
   ],
   "source": [
    "%matplotlib inline\n",
    "import pyne\n",
    "from decay_compare import *\n",
    "from pyne import data\n",
    "from pyne import rxname\n",
    "import tables as tb"
   ]
  },
  {
   "cell_type": "code",
   "execution_count": 45,
   "metadata": {
    "scrolled": true
   },
   "outputs": [
    {
     "name": "stdout",
     "output_type": "stream",
     "text": [
      "Running nuc Es254\n",
      "CPU times: user 376 ms, sys: 0 ns, total: 376 ms\n",
      "Wall time: 376 ms\n"
     ]
    }
   ],
   "source": [
    "%%time\n",
    "nucs = cram.NUCS\n",
    "n = 32\n",
    "nucs = cram.NUCS[100*n:100*(n+1)]\n",
    "#nucs = cram.NUCS[:100*(n+1)]\n",
    "# degenerate cases\n",
    "#nucs = ['Lu153', 'Tm149', 'Pt183', 'Os179', 'Ir172', 'Re168']\n",
    "#nucs = ['Ir172']\n",
    "# run custom\n",
    "#nucs = ['Ra233', 'Ac225']\n",
    "nucs = ['Es254']\n",
    "batemans, crammeds, diagexps = run_nuclides(nucs=nucs, verbose=True)"
   ]
  },
  {
   "cell_type": "code",
   "execution_count": 46,
   "metadata": {},
   "outputs": [],
   "source": [
    "NNUCS = len(crammeds)"
   ]
  },
  {
   "cell_type": "code",
   "execution_count": 47,
   "metadata": {},
   "outputs": [],
   "source": [
    "b = np.zeros((NTIMES, NNUCS), dtype=float)\n",
    "c = np.zeros((NTIMES, NNUCS), dtype=float)\n",
    "d = np.zeros((NTIMES, NNUCS), dtype=float)\n",
    "for n, nuc in enumerate(nucs):\n",
    "    b[:, n] = batemans[nuc][nuc]\n",
    "    c[:, n] = crammeds[nuc][nuc]\n",
    "    d[:, n] = diagexps[nuc][nuc]"
   ]
  },
  {
   "cell_type": "code",
   "execution_count": 48,
   "metadata": {},
   "outputs": [],
   "source": [
    "diagdiff = np.abs(d - c)\n",
    "mu_diagdiff = diagdiff.mean(axis=1)\n",
    "sigma_diagdiff = diagdiff.std(axis=1)"
   ]
  },
  {
   "cell_type": "code",
   "execution_count": 49,
   "metadata": {},
   "outputs": [
    {
     "data": {
      "text/plain": [
       "array([ 0.,  0.,  0.,  0.,  0.,  0.,  0.,  0.,  0.,  0.,  0.,  0.,  0.,\n",
       "        0.,  0.,  0.,  0.,  0.,  0.,  0.,  0.,  0.,  0.,  0.,  0.,  0.,\n",
       "        0.,  0.])"
      ]
     },
     "execution_count": 49,
     "metadata": {},
     "output_type": "execute_result"
    }
   ],
   "source": [
    "sigma_diagdiff"
   ]
  },
  {
   "cell_type": "markdown",
   "metadata": {},
   "source": [
    "# Difference plot for all nuclides\n",
    "\n",
    "The red line is the mean difference with $1\\sigma$ error bars"
   ]
  },
  {
   "cell_type": "code",
   "execution_count": 50,
   "metadata": {},
   "outputs": [
    {
     "data": {
      "text/plain": [
       "<matplotlib.legend.Legend at 0x7f97c1bc5208>"
      ]
     },
     "execution_count": 50,
     "metadata": {},
     "output_type": "execute_result"
    },
    {
     "data": {
      "image/png": "[encoded data removed]",
      "text/plain": [
       "<matplotlib.figure.Figure at 0x7f97c1bbe358>"
      ]
     },
     "metadata": {},
     "output_type": "display_data"
    }
   ],
   "source": [
    "plt.plot(TIMES[1:], diagdiff[1:, :], color='gray', alpha=0.01)\n",
    "plt.errorbar(TIMES[1:], mu_diagdiff[1:], yerr=sigma_diagdiff[1:], color='red', capsize=5, label='mean')\n",
    "plt.axis([TIMES[1]*0.75, TIMES[-1]*1.25, 0.0, 1e-14])\n",
    "plt.xscale('log')\n",
    "#plt.yscale('log')\n",
    "plt.xlabel('time [s]')\n",
    "plt.ylabel('Difference, $\\\\left|e^{-\\\\lambda t} - r_{k,k}\\\\right|$')\n",
    "plt.legend(loc=0)"
   ]
  },
  {
   "cell_type": "markdown",
   "metadata": {},
   "source": [
    "# Bateman Comparison"
   ]
  },
  {
   "cell_type": "code",
   "execution_count": 51,
   "metadata": {},
   "outputs": [],
   "source": [
    "def bateman_diff_plot(nuc, batemans, crammeds):\n",
    "    try:\n",
    "        bateman = batemans[nuc]\n",
    "        crammed = crammeds[nuc]\n",
    "    except KeyError:\n",
    "        print('Nuclide not in data!')\n",
    "        return\n",
    "    diff = diff_nuclide(bateman, crammed, abs=True)\n",
    "    d = np.zeros((NTIMES, len(diff)), dtype=float)\n",
    "    for i, (n, arr) in enumerate(diff.items()):\n",
    "        if data.fpyield(nuc, n) > 0:\n",
    "            print('skipping', n)\n",
    "            continue\n",
    "        plt.plot(TIMES, arr, label=n)\n",
    "        d[:,i] = arr\n",
    "    mu = d.mean(axis=1)\n",
    "    sigma = d.std(axis=1)\n",
    "    #plt.errorbar(TIMES, mu, yerr=sigma, capsize=5, color='black', label='mean')\n",
    "    plt.xscale('log')\n",
    "    #plt.yscale('log')\n",
    "    #plt.axis([TIMES[1]*0.75, TIMES[-1]*1.25, 1e-18, 1e-6])\n",
    "    plt.xlabel('time [s]')\n",
    "    plt.ylabel('Difference, $\\\\left|e^{-\\\\lambda t} - r_{k,k}\\\\right|$')\n",
    "    plt.legend(loc=0)"
   ]
  },
  {
   "cell_type": "code",
   "execution_count": 52,
   "metadata": {},
   "outputs": [],
   "source": [
    "#bateman_diff_plot('I131', batemans=batemans, crammeds=crammeds)\n",
    "\n",
    "#bateman_diff_plot('Sr90', batemans=batemans, crammeds=crammeds)\n",
    "\n",
    "#bateman_diff_plot('H3', batemans=batemans, crammeds=crammeds)\n",
    "\n",
    "#bateman_diff_plot('U235', batemans=batemans, crammeds=crammeds)\n",
    "\n",
    "#bateman_diff_plot('Se86', batemans=batemans, crammeds=crammeds)"
   ]
  },
  {
   "cell_type": "markdown",
   "metadata": {},
   "source": [
    "# Histogram of errors"
   ]
  },
  {
   "cell_type": "code",
   "execution_count": 53,
   "metadata": {},
   "outputs": [
    {
     "name": "stdout",
     "output_type": "stream",
     "text": [
      "Es254 -> Pb206\n"
     ]
    },
    {
     "data": {
      "text/plain": [
       "(28, 34)"
      ]
     },
     "execution_count": 53,
     "metadata": {},
     "output_type": "execute_result"
    }
   ],
   "source": [
    "diff_arrs = []\n",
    "for nuc in nucs:\n",
    "    diff = diff_nuclide(batemans[nuc], crammeds[nuc], abs=True, include_missing=False)\n",
    "    diff_arr = np.empty((NTIMES, len(diff)), dtype=float)\n",
    "    for i, (n, d) in enumerate(diff.items()):\n",
    "        diff_arr[:,i] = d\n",
    "        if np.abs(d).max() >= 1e-4:\n",
    "            print(nuc, '->', n)\n",
    "    diff_arrs.append(diff_arr)\n",
    "diff_arrs = np.concatenate(diff_arrs, axis=1)\n",
    "diff_arrs.shape"
   ]
  },
  {
   "cell_type": "code",
   "execution_count": 54,
   "metadata": {},
   "outputs": [
    {
     "data": {
      "text/plain": [
       "Text(0,0.5,'Count')"
      ]
     },
     "execution_count": 54,
     "metadata": {},
     "output_type": "execute_result"
    },
    {
     "data": {
      "image/png": "[encoded data removed]",
      "text/plain": [
       "<matplotlib.figure.Figure at 0x7f97c1bc9630>"
      ]
     },
     "metadata": {},
     "output_type": "display_data"
    }
   ],
   "source": [
    "plt.hist(diff_arrs.flat, bins=np.logspace(-32, 0, 33), log=True)\n",
    "plt.xscale('log')\n",
    "plt.axis([1e-32, 1, 1e0, 1e5])\n",
    "plt.xlabel('Difference, $\\\\left|b - r_{k,k}\\\\right|$')\n",
    "plt.ylabel('Count')"
   ]
  },
  {
   "cell_type": "code",
   "execution_count": 55,
   "metadata": {
    "scrolled": false
   },
   "outputs": [
    {
     "name": "stdout",
     "output_type": "stream",
     "text": [
      "Es254 -> Pb206\n",
      "\n",
      "CRAM\n",
      " [  0.000000000000000000e+00   0.000000000000000000e+00\n",
      "   0.000000000000000000e+00   0.000000000000000000e+00\n",
      "   0.000000000000000000e+00   0.000000000000000000e+00\n",
      "   0.000000000000000000e+00   0.000000000000000000e+00\n",
      "   0.000000000000000000e+00   0.000000000000000000e+00\n",
      "   8.472174670172917909e-69   8.852077658113616109e-62\n",
      "   2.704426087399383059e-55   2.895186901707717194e-49\n",
      "   1.028879494003222427e-43   1.273798658067114201e-38\n",
      "   5.700269495718322578e-34   9.940432396061195752e-30\n",
      "   7.804903945524477686e-26   2.720186744258052677e-22\n",
      "   4.549740473439914997e-19   4.700051480189379521e-16\n",
      "   3.121869700597032484e-13   1.082760447846595004e-10\n",
      "   1.716040727684077449e-08   1.285838247146985600e-06\n",
      "   3.767681483041823655e-05   3.348803000821385192e-04]\n",
      "Bateman\n",
      " [  0.000000000000000000e+00   4.910860289363916072e-17\n",
      "   1.552950378526353054e-16   4.910860289363910525e-16\n",
      "   1.552950378526350490e-15   4.910860289363891987e-15\n",
      "   1.552950378526329467e-14   4.910860289363675208e-14\n",
      "   1.552950378526111236e-13   4.910860289361500602e-13\n",
      "   1.552950378523939029e-12   4.910860289339774186e-12\n",
      "   1.552950378502211927e-11   4.910860289122498720e-11\n",
      "   1.552950378284937558e-10   4.910860286949756588e-10\n",
      "   1.552950376112194186e-09   4.910860265222324620e-09\n",
      "   1.552950354384761308e-08   4.910860047948002459e-08\n",
      "   1.552950137110450727e-07   4.910857875205292242e-07\n",
      "   1.552947964369015957e-06   4.910836147831116774e-06\n",
      "   1.552926237121861634e-05   4.910618879376385976e-05\n",
      "   1.552708981368806180e-04   4.908446723448304638e-04]\n",
      "Diff\n",
      " [  0.000000000000000000e+00   4.910860289363916072e-17\n",
      "   1.552950378526353054e-16   4.910860289363910525e-16\n",
      "   1.552950378526350490e-15   4.910860289363891987e-15\n",
      "   1.552950378526329467e-14   4.910860289363675208e-14\n",
      "   1.552950378526111236e-13   4.910860289361500602e-13\n",
      "   1.552950378523939029e-12   4.910860289339774186e-12\n",
      "   1.552950378502211927e-11   4.910860289122498720e-11\n",
      "   1.552950378284937558e-10   4.910860286949756588e-10\n",
      "   1.552950376112194186e-09   4.910860265222324620e-09\n",
      "   1.552950354384761308e-08   4.910860047947975327e-08\n",
      "   1.552950137105901102e-07   4.910857870505240884e-07\n",
      "   1.552947652182045855e-06   4.910727871786332277e-06\n",
      "   1.551210196394177583e-05   4.782035054661687331e-05\n",
      "   1.175940833064623815e-04   1.559643722626919446e-04]\n"
     ]
    },
    {
     "data": {
      "image/png": "[encoded data removed]",
      "text/plain": [
       "<matplotlib.figure.Figure at 0x7f97c1b44860>"
      ]
     },
     "metadata": {},
     "output_type": "display_data"
    }
   ],
   "source": [
    "nuc = 'Es254'\n",
    "ouc = 'Pb206'\n",
    "print(nuc + ' -> ' + ouc + '\\n')\n",
    "print('CRAM\\n', crammeds[nuc][ouc])\n",
    "print('Bateman\\n', batemans[nuc][ouc])\n",
    "print('Diff\\n', batemans[nuc][ouc] - crammeds[nuc][ouc])\n",
    "bateman_diff_plot(nuc, batemans=batemans, crammeds=crammeds)"
   ]
  },
  {
   "cell_type": "code",
   "execution_count": null,
   "metadata": {},
   "outputs": [],
   "source": [
    "#out[2442] += (it->second) * (4.00946745562130117e-03*b58 + -1.82469514198686463e-03*b57*t)\n",
    "#out[2442] += (it->second) * (-2.13230769230769246e-03*b57 + -2.13230769230769246e-03*b57 + 4.00946745562130117e-03*b58)"
   ]
  },
  {
   "cell_type": "code",
   "execution_count": 44,
   "metadata": {},
   "outputs": [
    {
     "data": {
      "text/plain": [
       "0.0016821538461538462"
      ]
     },
     "execution_count": 44,
     "metadata": {},
     "output_type": "execute_result"
    }
   ],
   "source": [
    "2.13230769230769246e-03 * 0.639 / 0.9**2"
   ]
  },
  {
   "cell_type": "code",
   "execution_count": 15,
   "metadata": {},
   "outputs": [
    {
     "data": {
      "text/plain": [
       "2.2"
      ]
     },
     "execution_count": 15,
     "metadata": {},
     "output_type": "execute_result"
    }
   ],
   "source": [
    "data.half_life('Ho148')"
   ]
  },
  {
   "cell_type": "code",
   "execution_count": 16,
   "metadata": {},
   "outputs": [
    {
     "data": {
      "text/plain": [
       "-0.0018246951419868644"
      ]
     },
     "execution_count": 16,
     "metadata": {},
     "output_type": "execute_result"
    }
   ],
   "source": [
    "coef = (0.9 - 2.2)**-1 * np.log(2) * (0.7 *0.002) * 2.2 * 0.9**(3-4)\n",
    "coef"
   ]
  },
  {
   "cell_type": "code",
   "execution_count": 17,
   "metadata": {},
   "outputs": [
    {
     "data": {
      "text/plain": [
       "0.0001634500880707525"
      ]
     },
     "execution_count": 17,
     "metadata": {},
     "output_type": "execute_result"
    }
   ],
   "source": [
    "t = 10.0\n",
    "4.00946745562130117e-03 * 2**(-4.54545454545454530e-01*t) + coef * t * 2**(-t / 0.9)"
   ]
  },
  {
   "cell_type": "code",
   "execution_count": 18,
   "metadata": {},
   "outputs": [
    {
     "data": {
      "text/plain": [
       "0.00017169930237543563"
      ]
     },
     "execution_count": 18,
     "metadata": {},
     "output_type": "execute_result"
    }
   ],
   "source": [
    "4.00946745562130117e-03 * 2**(-4.54545454545454530e-01*10.0)"
   ]
  },
  {
   "cell_type": "code",
   "execution_count": 19,
   "metadata": {},
   "outputs": [
    {
     "data": {
      "text/plain": [
       "0.7297400528407231"
      ]
     },
     "execution_count": 19,
     "metadata": {},
     "output_type": "execute_result"
    }
   ],
   "source": [
    " 2**(-4.54545454545454530e-01*1.0)"
   ]
  },
  {
   "cell_type": "code",
   "execution_count": 20,
   "metadata": {},
   "outputs": [
    {
     "data": {
      "text/plain": [
       "0.997985131349332"
      ]
     },
     "execution_count": 20,
     "metadata": {},
     "output_type": "execute_result"
    }
   ],
   "source": [
    "2.604502495499387837e-01 / 2.609760820762884737e-001"
   ]
  },
  {
   "cell_type": "code",
   "execution_count": 21,
   "metadata": {},
   "outputs": [
    {
     "data": {
      "text/plain": [
       "1.0"
      ]
     },
     "execution_count": 21,
     "metadata": {},
     "output_type": "execute_result"
    }
   ],
   "source": [
    "data.branch_ratio('Os179', 'Re179')"
   ]
  },
  {
   "cell_type": "code",
   "execution_count": 22,
   "metadata": {},
   "outputs": [
    {
     "data": {
      "text/plain": [
       "1.0"
      ]
     },
     "execution_count": 22,
     "metadata": {},
     "output_type": "execute_result"
    }
   ],
   "source": [
    "data.branch_ratio('Po210', 'Pb206')"
   ]
  },
  {
   "cell_type": "code",
   "execution_count": 23,
   "metadata": {},
   "outputs": [
    {
     "data": {
      "text/plain": [
       "0.9889101976944185"
      ]
     },
     "execution_count": 23,
     "metadata": {},
     "output_type": "execute_result"
    }
   ],
   "source": [
    "(1.616374589072180098e-04/ 1.634500880707525565e-004)"
   ]
  },
  {
   "cell_type": "code",
   "execution_count": 24,
   "metadata": {},
   "outputs": [
    {
     "data": {
      "text/plain": [
       "{360830000: 'Kr83',\n",
       " 420950000: 'Mo95',\n",
       " 430990000: 'Tc99',\n",
       " 441010000: 'Ru101',\n",
       " 441030000: 'Ru103',\n",
       " 441060000: 'Ru106',\n",
       " 451030000: 'Rh103',\n",
       " 451050000: 'Rh105',\n",
       " 461050000: 'Pd105',\n",
       " 461070000: 'Pd107',\n",
       " 461080000: 'Pd108',\n",
       " 471090000: 'Ag109',\n",
       " 481130000: 'Cd113',\n",
       " 491150000: 'In115',\n",
       " 511250000: 'Sb125',\n",
       " 521270000: 'Te127',\n",
       " 531270000: 'I127',\n",
       " 531350000: 'I135',\n",
       " 541310000: 'Xe131',\n",
       " 541340000: 'Xe134',\n",
       " 541350000: 'Xe135',\n",
       " 541360000: 'Xe136',\n",
       " 551330000: 'Cs133',\n",
       " 551340000: 'Cs134',\n",
       " 551350000: 'Cs135',\n",
       " 551370000: 'Cs137',\n",
       " 601430000: 'Nd143',\n",
       " 601450000: 'Nd145',\n",
       " 611470000: 'Pm147',\n",
       " 611480000: 'Pm148',\n",
       " 611480001: 'Pm148M',\n",
       " 611490000: 'Pm149',\n",
       " 621470000: 'Sm147',\n",
       " 621480000: 'Sm148',\n",
       " 621490000: 'Sm149',\n",
       " 621500000: 'Sm150',\n",
       " 621510000: 'Sm151',\n",
       " 621520000: 'Sm152',\n",
       " 631510000: 'Eu151',\n",
       " 631520000: 'Eu152',\n",
       " 631530000: 'Eu153',\n",
       " 631540000: 'Eu154',\n",
       " 631550000: 'Eu155',\n",
       " 641540000: 'Gd154',\n",
       " 641550000: 'Gd155',\n",
       " 641560000: 'Gd156',\n",
       " 641570000: 'Gd157',\n",
       " 641580000: 'Gd158',\n",
       " 661600000: 'Dy160',\n",
       " 661610000: 'Dy161',\n",
       " 661620000: 'Dy162',\n",
       " 661630000: 'Dy163',\n",
       " 661640000: 'Dy164',\n",
       " 671650000: 'Ho165',\n",
       " 681660000: 'Er166',\n",
       " 681670000: 'Er167',\n",
       " 902310000: 'Th231'}"
      ]
     },
     "execution_count": 24,
     "metadata": {},
     "output_type": "execute_result"
    }
   ],
   "source": [
    "kids = data.decay_children('U235')\n",
    "{k: nucname.name(k) for k in kids}"
   ]
  },
  {
   "cell_type": "code",
   "execution_count": 25,
   "metadata": {},
   "outputs": [
    {
     "data": {
      "text/plain": [
       "inf"
      ]
     },
     "execution_count": 25,
     "metadata": {},
     "output_type": "execute_result"
    }
   ],
   "source": [
    "data.half_life('Pb206')"
   ]
  },
  {
   "cell_type": "code",
   "execution_count": 26,
   "metadata": {},
   "outputs": [
    {
     "data": {
      "text/plain": [
       "50.2"
      ]
     },
     "execution_count": 26,
     "metadata": {},
     "output_type": "execute_result"
    }
   ],
   "source": [
    "data.half_life('Fr229')"
   ]
  },
  {
   "cell_type": "code",
   "execution_count": 27,
   "metadata": {},
   "outputs": [
    {
     "data": {
      "text/plain": [
       "240.0"
      ]
     },
     "execution_count": 27,
     "metadata": {},
     "output_type": "execute_result"
    }
   ],
   "source": [
    "data.half_life('Ra229')"
   ]
  },
  {
   "cell_type": "code",
   "execution_count": 28,
   "metadata": {},
   "outputs": [
    {
     "data": {
      "text/plain": [
       "279.6"
      ]
     },
     "execution_count": 28,
     "metadata": {},
     "output_type": "execute_result"
    }
   ],
   "source": [
    "data.half_life('Rn225')"
   ]
  },
  {
   "cell_type": "code",
   "execution_count": 29,
   "metadata": {},
   "outputs": [
    {
     "data": {
      "text/plain": [
       "237.0"
      ]
     },
     "execution_count": 29,
     "metadata": {},
     "output_type": "execute_result"
    }
   ],
   "source": [
    "data.half_life('Fr225')"
   ]
  },
  {
   "cell_type": "code",
   "execution_count": 30,
   "metadata": {},
   "outputs": [
    {
     "data": {
      "text/plain": [
       "1.409993568e+17"
      ]
     },
     "execution_count": 30,
     "metadata": {},
     "output_type": "execute_result"
    }
   ],
   "source": [
    "data.half_life('U238')"
   ]
  },
  {
   "cell_type": "code",
   "execution_count": 31,
   "metadata": {},
   "outputs": [
    {
     "data": {
      "text/plain": [
       "1.0"
      ]
     },
     "execution_count": 31,
     "metadata": {},
     "output_type": "execute_result"
    }
   ],
   "source": [
    "data.branch_ratio('Ra225', 'Ac225')"
   ]
  },
  {
   "cell_type": "code",
   "execution_count": 32,
   "metadata": {},
   "outputs": [
    {
     "data": {
      "text/plain": [
       "992540000"
      ]
     },
     "execution_count": 32,
     "metadata": {},
     "output_type": "execute_result"
    }
   ],
   "source": [
    "nucname.id('Es254')"
   ]
  },
  {
   "cell_type": "code",
   "execution_count": null,
   "metadata": {},
   "outputs": [],
   "source": []
  }
 ],
 "metadata": {
  "kernelspec": {
   "display_name": "Python 3",
   "language": "python",
   "name": "python3"
  },
  "language_info": {
   "codemirror_mode": {
    "name": "ipython",
    "version": 3
   },
   "file_extension": ".py",
   "mimetype": "text/x-python",
   "name": "python",
   "nbconvert_exporter": "python",
   "pygments_lexer": "ipython3",
   "version": "3.6.3"
  }
 },
 "nbformat": 4,
 "nbformat_minor": 2
}
