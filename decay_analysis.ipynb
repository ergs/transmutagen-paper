{
 "cells": [
  {
   "cell_type": "code",
   "execution_count": 1,
   "metadata": {},
   "outputs": [
    {
     "name": "stderr",
     "output_type": "stream",
     "text": [
      "/home/scopatz/miniconda/lib/python3.6/importlib/_bootstrap.py:205: QAWarning: pyne.data is not yet QA compliant.\n",
      "  return f(*args, **kwds)\n",
      "/home/scopatz/miniconda/lib/python3.6/importlib/_bootstrap.py:205: QAWarning: pyne.material is not yet QA compliant.\n",
      "  return f(*args, **kwds)\n"
     ]
    }
   ],
   "source": [
    "%matplotlib inline\n",
    "import pyne\n",
    "from decay_compare import *\n",
    "from pyne import data\n",
    "from pyne import rxname\n",
    "import tables as tb"
   ]
  },
  {
   "cell_type": "code",
   "execution_count": 2,
   "metadata": {
    "scrolled": true
   },
   "outputs": [
    {
     "name": "stdout",
     "output_type": "stream",
     "text": [
      "Running nuc Cs144\n",
      "Running nuc Ba144\n",
      "Running nuc La144\n",
      "Running nuc Ce144\n",
      "Running nuc Pr144\n",
      "Running nuc Nd144\n",
      "Running nuc Ce140\n",
      "CPU times: user 1.95 s, sys: 12 ms, total: 1.96 s\n",
      "Wall time: 1.96 s\n"
     ]
    }
   ],
   "source": [
    "%%time\n",
    "nucs = cram.NUCS\n",
    "n = 16\n",
    "nucs = cram.NUCS[100*n:100*(n+1)]\n",
    "nucs = ['Cs144', 'Ba144', 'La144','Ce144', 'Pr144', 'Nd144', 'Ce140']\n",
    "batemans, crammeds, diagexps = run_nuclides(nucs=nucs, verbose=True)"
   ]
  },
  {
   "cell_type": "code",
   "execution_count": 3,
   "metadata": {},
   "outputs": [],
   "source": [
    "NNUCS = len(crammeds)"
   ]
  },
  {
   "cell_type": "code",
   "execution_count": 4,
   "metadata": {},
   "outputs": [],
   "source": [
    "b = np.zeros((NTIMES, NNUCS), dtype=float)\n",
    "c = np.zeros((NTIMES, NNUCS), dtype=float)\n",
    "d = np.zeros((NTIMES, NNUCS), dtype=float)\n",
    "for n, nuc in enumerate(nucs):\n",
    "    b[:, n] = batemans[nuc][nuc]\n",
    "    c[:, n] = crammeds[nuc][nuc]\n",
    "    d[:, n] = diagexps[nuc][nuc]"
   ]
  },
  {
   "cell_type": "code",
   "execution_count": 5,
   "metadata": {},
   "outputs": [],
   "source": [
    "diagdiff = np.abs(d - c)\n",
    "mu_diagdiff = diagdiff.mean(axis=1)\n",
    "sigma_diagdiff = diagdiff.std(axis=1)"
   ]
  },
  {
   "cell_type": "code",
   "execution_count": 6,
   "metadata": {},
   "outputs": [
    {
     "data": {
      "text/plain": [
       "array([  0.000000000000000000e+00,   1.784494659921585531e-15,\n",
       "         3.237955258989155142e-15,   2.861927129518370901e-15,\n",
       "         3.569190291141976216e-15,   1.526689747049519412e-15,\n",
       "         1.710744486115372453e-15,   1.954526071081735523e-15,\n",
       "         1.933886686160730488e-15,   1.897328430138105775e-15,\n",
       "         1.521480824208055313e-15,   3.252559949613403874e-15,\n",
       "         1.528183018465234982e-15,   1.500821331016426329e-15,\n",
       "         1.643430637434555357e-15,   1.341408866695744125e-15,\n",
       "         2.864333236904184749e-15,   3.867437315325515640e-15,\n",
       "         1.689291425523623409e-15,   2.394579406129548296e-15,\n",
       "         1.225782729921124631e-15,   1.419888277180349024e-15,\n",
       "         1.231567744170265869e-15,   1.197664339355094010e-15,\n",
       "         1.215911695992022921e-15,   2.081114190048194316e-15,\n",
       "         1.534613904408205019e-15,   1.584562252893964280e-15])"
      ]
     },
     "execution_count": 6,
     "metadata": {},
     "output_type": "execute_result"
    }
   ],
   "source": [
    "sigma_diagdiff"
   ]
  },
  {
   "cell_type": "markdown",
   "metadata": {},
   "source": [
    "# Difference plot for all nuclides\n",
    "\n",
    "The red line is the mean difference with $1\\sigma$ error bars"
   ]
  },
  {
   "cell_type": "code",
   "execution_count": 7,
   "metadata": {},
   "outputs": [
    {
     "data": {
      "text/plain": [
       "<matplotlib.legend.Legend at 0x7f3c2e837b38>"
      ]
     },
     "execution_count": 7,
     "metadata": {},
     "output_type": "execute_result"
    },
    {
     "data": {
      "image/png": "[encoded data removed]",
      "text/plain": [
       "<matplotlib.figure.Figure at 0x7f3c2e94db70>"
      ]
     },
     "metadata": {},
     "output_type": "display_data"
    }
   ],
   "source": [
    "plt.plot(TIMES[1:], diagdiff[1:, :], color='gray', alpha=0.01)\n",
    "plt.errorbar(TIMES[1:], mu_diagdiff[1:], yerr=sigma_diagdiff[1:], color='red', capsize=5, label='mean')\n",
    "plt.axis([TIMES[1]*0.75, TIMES[-1]*1.25, 0.0, 1e-14])\n",
    "plt.xscale('log')\n",
    "#plt.yscale('log')\n",
    "plt.xlabel('time [s]')\n",
    "plt.ylabel('Difference, $\\\\left|e^{-\\\\lambda t} - r_{k,k}\\\\right|$')\n",
    "plt.legend(loc=0)"
   ]
  },
  {
   "cell_type": "markdown",
   "metadata": {},
   "source": [
    "# Bateman Comparison"
   ]
  },
  {
   "cell_type": "code",
   "execution_count": 8,
   "metadata": {},
   "outputs": [],
   "source": [
    "def bateman_diff_plot(nuc, batemans, crammeds):\n",
    "    try:\n",
    "        bateman = batemans[nuc]\n",
    "        crammed = crammeds[nuc]\n",
    "    except KeyError:\n",
    "        print('Nuclide not in data!')\n",
    "        return\n",
    "    diff = diff_nuclide(bateman, crammed, abs=True)\n",
    "    d = np.zeros((NTIMES, len(diff)), dtype=float)\n",
    "    for i, (n, arr) in enumerate(diff.items()):\n",
    "        if data.fpyield(nuc, n) > 0:\n",
    "            print('skipping', n)\n",
    "            continue\n",
    "        plt.plot(TIMES, arr, label=n)\n",
    "        d[:,i] = arr\n",
    "    mu = d.mean(axis=1)\n",
    "    sigma = d.std(axis=1)\n",
    "    #plt.errorbar(TIMES, mu, yerr=sigma, capsize=5, color='black', label='mean')\n",
    "    plt.xscale('log')\n",
    "    #plt.yscale('log')\n",
    "    #plt.axis([TIMES[1]*0.75, TIMES[-1]*1.25, 1e-18, 1e-6])\n",
    "    plt.xlabel('time [s]')\n",
    "    plt.ylabel('Difference, $\\\\left|e^{-\\\\lambda t} - r_{k,k}\\\\right|$')\n",
    "    plt.legend(loc=0)"
   ]
  },
  {
   "cell_type": "code",
   "execution_count": 9,
   "metadata": {},
   "outputs": [],
   "source": [
    "#bateman_diff_plot('I131', batemans=batemans, crammeds=crammeds)\n",
    "\n",
    "#bateman_diff_plot('Sr90', batemans=batemans, crammeds=crammeds)\n",
    "\n",
    "#bateman_diff_plot('H3', batemans=batemans, crammeds=crammeds)\n",
    "\n",
    "#bateman_diff_plot('U235', batemans=batemans, crammeds=crammeds)\n",
    "\n",
    "#bateman_diff_plot('Se86', batemans=batemans, crammeds=crammeds)"
   ]
  },
  {
   "cell_type": "markdown",
   "metadata": {},
   "source": [
    "# Histogram of errors"
   ]
  },
  {
   "cell_type": "code",
   "execution_count": 10,
   "metadata": {},
   "outputs": [
    {
     "name": "stdout",
     "output_type": "stream",
     "text": [
      "Ce144 -> Nd144\n"
     ]
    },
    {
     "data": {
      "text/plain": [
       "(28, 33)"
      ]
     },
     "execution_count": 10,
     "metadata": {},
     "output_type": "execute_result"
    }
   ],
   "source": [
    "diff_arrs = []\n",
    "for nuc in nucs:\n",
    "    diff = diff_nuclide(batemans[nuc], crammeds[nuc], abs=True, include_missing=False)\n",
    "    diff_arr = np.empty((NTIMES, len(diff)), dtype=float)\n",
    "    for i, (n, d) in enumerate(diff.items()):\n",
    "        diff_arr[:,i] = d\n",
    "        if np.abs(d).max() >= 1e-6:\n",
    "            print(nuc, '->', n)\n",
    "    diff_arrs.append(diff_arr)\n",
    "diff_arrs = np.concatenate(diff_arrs, axis=1)\n",
    "diff_arrs.shape"
   ]
  },
  {
   "cell_type": "code",
   "execution_count": 11,
   "metadata": {},
   "outputs": [
    {
     "data": {
      "text/plain": [
       "<matplotlib.text.Text at 0x7f3c2aeceac8>"
      ]
     },
     "execution_count": 11,
     "metadata": {},
     "output_type": "execute_result"
    },
    {
     "data": {
      "image/png": "[encoded data removed]",
      "text/plain": [
       "<matplotlib.figure.Figure at 0x7f3c2ae9f6d8>"
      ]
     },
     "metadata": {},
     "output_type": "display_data"
    }
   ],
   "source": [
    "plt.hist(diff_arrs.flat, bins=np.logspace(-32, 0, 33), log=True)\n",
    "plt.xscale('log')\n",
    "plt.axis([1e-32, 1, 1e0, 1e5])\n",
    "plt.xlabel('Difference, $\\\\left|b - r_{k,k}\\\\right|$')\n",
    "plt.ylabel('Count')"
   ]
  },
  {
   "cell_type": "code",
   "execution_count": 12,
   "metadata": {
    "scrolled": false
   },
   "outputs": [
    {
     "name": "stdout",
     "output_type": "stream",
     "text": [
      "Ce144 -> Nd144\n",
      "\n",
      "CRAM\n",
      " [  0.000000000000000000e+00   9.391548017205202558e-10\n",
      "   9.346505208611546096e-09   9.206184509779060325e-08\n",
      "   8.782783375775477240e-07   7.623322610428969663e-06\n",
      "   5.200888559208237443e-05   2.394859271181023434e-04\n",
      "   8.479595259979090917e-04   2.769851813196221556e-03\n",
      "   8.823113384416070640e-03   2.772444759299403511e-02\n",
      "   8.515602770368761731e-02   2.453787571621586228e-01\n",
      "   5.895070721333124375e-01   9.401415267544409593e-01\n",
      "   9.998642023785856425e-01   9.999999999993980371e-01\n",
      "   9.999999999999602540e-01   9.999999999999051870e-01\n",
      "   9.999999999996976863e-01   9.999999999990362154e-01\n",
      "   9.999999999969524378e-01   9.999999999904181092e-01\n",
      "   9.999999999696539410e-01   9.999999999040897203e-01\n",
      "   9.999999996966947302e-01   9.999999990408549033e-01]\n",
      "Bateman\n",
      " [  0.000000000000000000e+00   0.000000000000000000e+00\n",
      "   0.000000000000000000e+00   0.000000000000000000e+00\n",
      "   0.000000000000000000e+00   0.000000000000000000e+00\n",
      "   4.692331807676364264e-05   2.394333206732212900e-04\n",
      "   8.479595259703875954e-04   2.769851813196555490e-03\n",
      "   8.823113384416434932e-03   2.772444759299464573e-02\n",
      "   8.515602770368799201e-02   2.453787571621592611e-01\n",
      "   5.895070721333161012e-01   9.401415267544440679e-01\n",
      "   9.998642023785890842e-01   9.999999999994005906e-01\n",
      "   9.999999999999701350e-01   9.999999999999044098e-01\n",
      "   9.999999999996970201e-01   9.999999999990413224e-01\n",
      "   9.999999999969672038e-01   9.999999999904092274e-01\n",
      "   9.999999999696694841e-01   9.999999999040855014e-01\n",
      "   9.999999996966911775e-01   9.999999990408515727e-01]\n",
      "Diff\n",
      " [  0.000000000000000000e+00  -9.391548017205202558e-10\n",
      "  -9.346505208611546096e-09  -9.206184509779060325e-08\n",
      "  -8.782783375775477240e-07  -7.623322610428969663e-06\n",
      "  -5.085567515318731790e-06  -5.260644488105340084e-08\n",
      "  -2.752149636658929310e-14   3.339342691255353657e-16\n",
      "   3.642919299551294898e-16   6.106226635438360972e-16\n",
      "   3.747002708109903324e-16   6.383782391594650107e-16\n",
      "   3.663735981263016583e-15   3.108624468950438313e-15\n",
      "   3.441691376337985275e-15   2.553512956637860043e-15\n",
      "   9.880984919163893210e-15  -7.771561172376095783e-16\n",
      "  -6.661338147750939243e-16   5.107025913275720086e-15\n",
      "   1.476596622751458199e-14  -8.881784197001252323e-15\n",
      "   1.554312234475219157e-14  -4.218847493575594854e-15\n",
      "  -3.552713678800500929e-15  -3.330669073875469621e-15]\n"
     ]
    },
    {
     "data": {
      "image/png": "[encoded data removed]",
      "text/plain": [
       "<matplotlib.figure.Figure at 0x7f3c2ac74240>"
      ]
     },
     "metadata": {},
     "output_type": "display_data"
    }
   ],
   "source": [
    "nuc = 'Ce144'\n",
    "ouc = 'Nd144'\n",
    "print(nuc + ' -> ' + ouc + '\\n')\n",
    "print('CRAM\\n', crammeds[nuc][ouc])\n",
    "print('Bateman\\n', batemans[nuc][ouc])\n",
    "print('Diff\\n', batemans[nuc][ouc] - crammeds[nuc][ouc])\n",
    "bateman_diff_plot(nuc, batemans=batemans, crammeds=crammeds)"
   ]
  },
  {
   "cell_type": "code",
   "execution_count": 13,
   "metadata": {},
   "outputs": [
    {
     "data": {
      "text/plain": [
       "1.0"
      ]
     },
     "execution_count": 13,
     "metadata": {},
     "output_type": "execute_result"
    }
   ],
   "source": [
    "data.branch_ratio('Ce144', 'Pr144')\n"
   ]
  },
  {
   "cell_type": "code",
   "execution_count": 14,
   "metadata": {},
   "outputs": [
    {
     "data": {
      "text/plain": [
       "set([591440000])"
      ]
     },
     "execution_count": 14,
     "metadata": {},
     "output_type": "execute_result"
    }
   ],
   "source": [
    "data.decay_children(nucname.id('Ce144'))"
   ]
  },
  {
   "cell_type": "code",
   "execution_count": 15,
   "metadata": {},
   "outputs": [
    {
     "data": {
      "text/plain": [
       "2.8158144017536774e-08"
      ]
     },
     "execution_count": 15,
     "metadata": {},
     "output_type": "execute_result"
    }
   ],
   "source": [
    "data.decay_const('Ce144')"
   ]
  },
  {
   "cell_type": "code",
   "execution_count": 16,
   "metadata": {},
   "outputs": [
    {
     "data": {
      "text/plain": [
       "0.0006685447343363669"
      ]
     },
     "execution_count": 16,
     "metadata": {},
     "output_type": "execute_result"
    }
   ],
   "source": [
    "data.decay_const('Pr144')"
   ]
  },
  {
   "cell_type": "code",
   "execution_count": 17,
   "metadata": {},
   "outputs": [
    {
     "data": {
      "text/plain": [
       "9.591488526476038e-24"
      ]
     },
     "execution_count": 17,
     "metadata": {},
     "output_type": "execute_result"
    }
   ],
   "source": [
    "data.decay_const('Nd144')"
   ]
  },
  {
   "cell_type": "code",
   "execution_count": 18,
   "metadata": {},
   "outputs": [
    {
     "data": {
      "text/plain": [
       "7.2266904e+22"
      ]
     },
     "execution_count": 18,
     "metadata": {},
     "output_type": "execute_result"
    }
   ],
   "source": [
    "data.half_life('Nd144')"
   ]
  },
  {
   "cell_type": "code",
   "execution_count": 19,
   "metadata": {},
   "outputs": [
    {
     "data": {
      "text/plain": [
       "3.406292872322302e-16"
      ]
     },
     "execution_count": 19,
     "metadata": {},
     "output_type": "execute_result"
    }
   ],
   "source": [
    "9.591488526476038e-24 / 2.8158144017536774e-08"
   ]
  },
  {
   "cell_type": "code",
   "execution_count": null,
   "metadata": {},
   "outputs": [],
   "source": []
  }
 ],
 "metadata": {
  "kernelspec": {
   "display_name": "Python 3",
   "language": "python",
   "name": "python3"
  },
  "language_info": {
   "codemirror_mode": {
    "name": "ipython",
    "version": 3
   },
   "file_extension": ".py",
   "mimetype": "text/x-python",
   "name": "python",
   "nbconvert_exporter": "python",
   "pygments_lexer": "ipython3",
   "version": "3.6.2"
  }
 },
 "nbformat": 4,
 "nbformat_minor": 2
}
